{
 "cells": [
  {
   "cell_type": "markdown",
   "id": "f219b72d-e568-400c-9d62-9bc70d704926",
   "metadata": {},
   "source": [
    "# Capital Bikeshare Summer 2018 Analysis\n",
    "We use the data publicly available at https://s3.amazonaws.com/dmfa-2020/project-1/2018-capitalbikesharetripdata.zip for this analysis. \n",
    "\n",
    "Over the course of this analysis, we find the most popular stations and bikes, providing valuable insights for optimizing the bikeshare system. "
   ]
  },
  {
   "cell_type": "code",
   "execution_count": 11,
   "id": "3e4cf446-7ff0-49b3-87db-b3ca2ec1b46e",
   "metadata": {},
   "outputs": [
    {
     "name": "stdout",
     "output_type": "stream",
     "text": [
      "--2024-10-01 13:16:15--  https://s3.amazonaws.com/dmfa-2020/project-1/2018-capitalbikeshare-tripdata.zip\n",
      "Resolving s3.amazonaws.com (s3.amazonaws.com)... 52.217.90.214, 52.217.174.160, 52.216.245.86, ...\n",
      "Connecting to s3.amazonaws.com (s3.amazonaws.com)|52.217.90.214|:443... connected.\n",
      "HTTP request sent, awaiting response... 200 OK\n",
      "Length: 18365732 (18M) [application/zip]\n",
      "Saving to: '2018-capitalbikeshare-tripdata.zip.1'\n",
      "\n",
      "2018-capitalbikesha 100%[===================>]  17.51M  31.9MB/s    in 0.5s    \n",
      "\n",
      "2024-10-01 13:16:16 (31.9 MB/s) - '2018-capitalbikeshare-tripdata.zip.1' saved [18365732/18365732]\n",
      "\n"
     ]
    }
   ],
   "source": [
    "!wget https://s3.amazonaws.com/dmfa-2020/project-1/2018-capitalbikeshare-tripdata.zip"
   ]
  },
  {
   "cell_type": "markdown",
   "id": "97316268-1eb8-44cf-9de8-1f81cd86848d",
   "metadata": {},
   "source": [
    "The zip file shall also be provided on GitHub if required for this analysis. "
   ]
  },
  {
   "cell_type": "markdown",
   "id": "209a24f5-af1b-48fa-bdbc-c5d999dec434",
   "metadata": {},
   "source": [
    "**1. We proceed by Unziping the data and combining the two inflating CSV files using csvstack. Then we name the combined file as “trips.csv”.**"
   ]
  },
  {
   "cell_type": "code",
   "execution_count": 3,
   "id": "38008ff7-94fe-4286-b510-22f38c4332ee",
   "metadata": {
    "editable": true,
    "slideshow": {
     "slide_type": ""
    },
    "tags": []
   },
   "outputs": [
    {
     "name": "stdout",
     "output_type": "stream",
     "text": [
      "Archive:  2018-capitalbikeshare-tripdata.zip\n",
      "replace 201807-capitalbikeshare-tripdata.csv? [y]es, [n]o, [A]ll, [N]one, [r]ename: ^C\n"
     ]
    }
   ],
   "source": [
    "!unzip 2018-capitalbikeshare-tripdata.zip"
   ]
  },
  {
   "cell_type": "code",
   "execution_count": 13,
   "id": "0fcc70ea-7fad-490f-aa4e-04c2697bea11",
   "metadata": {},
   "outputs": [],
   "source": [
    "!csvstack 201807-capitalbikeshare-tripdata.csv 201808-capitalbikeshare-tripdata.csv > trips.csv"
   ]
  },
  {
   "cell_type": "code",
   "execution_count": 6,
   "id": "9244cebd-0ad0-4e62-8495-66809f76451b",
   "metadata": {},
   "outputs": [
    {
     "name": "stdout",
     "output_type": "stream",
     "text": [
      "  404762 201807-capitalbikeshare-tripdata.csv\n"
     ]
    }
   ],
   "source": [
    "!wc -l 201807-capitalbikeshare-tripdata.csv"
   ]
  },
  {
   "cell_type": "code",
   "execution_count": 7,
   "id": "8af3ad90-296c-426f-ba28-79b227d46bfb",
   "metadata": {},
   "outputs": [
    {
     "name": "stdout",
     "output_type": "stream",
     "text": [
      "  403867 201808-capitalbikeshare-tripdata.csv\n"
     ]
    }
   ],
   "source": [
    "!wc -l 201808-capitalbikeshare-tripdata.csv"
   ]
  },
  {
   "cell_type": "code",
   "execution_count": 15,
   "id": "86aac405-fd92-40b8-9b38-0cff6427a109",
   "metadata": {},
   "outputs": [
    {
     "name": "stdout",
     "output_type": "stream",
     "text": [
      "  808628 trips.csv\n"
     ]
    }
   ],
   "source": [
    "!wc -l trips.csv"
   ]
  },
  {
   "cell_type": "markdown",
   "id": "70a16235-c26f-4a32-8410-93cd23424dfc",
   "metadata": {},
   "source": [
    "The **First CSV** file has a total of **404762 lines**, the **Second CSV** file has a total of **403867 lines**. After using the command CSVstack the combined file **Trips.csv** has a total of **808628 lines**."
   ]
  },
  {
   "cell_type": "markdown",
   "id": "4667ad62-48e3-4e7a-815d-833b453a6441",
   "metadata": {},
   "source": [
    "**2. List the labels for the heading line.**"
   ]
  },
  {
   "cell_type": "code",
   "execution_count": 17,
   "id": "02b532b2-fd23-4293-8191-0e7000eb719d",
   "metadata": {},
   "outputs": [
    {
     "name": "stdout",
     "output_type": "stream",
     "text": [
      "Duration,Start date,End date,Start station number,Start station,End station number,End station,Bike number,Member type\n"
     ]
    }
   ],
   "source": [
    "!head -n 1 trips.csv"
   ]
  },
  {
   "cell_type": "code",
   "execution_count": 19,
   "id": "0208fe87-b9ae-402d-a420-a9d763b4bb2e",
   "metadata": {},
   "outputs": [
    {
     "name": "stdout",
     "output_type": "stream",
     "text": [
      "Duration|Start date|End date|Start station number|Start station|End station number|End station|Bike number|Member type\n"
     ]
    }
   ],
   "source": [
    "!head -n 1 trips.csv | tr ',' '|'\n"
   ]
  },
  {
   "cell_type": "markdown",
   "id": "48442d28-f77b-4bde-95c5-ca2b1a5f6aa2",
   "metadata": {},
   "source": [
    "The headings can be listed using the above commands. "
   ]
  },
  {
   "cell_type": "markdown",
   "id": "d4c73504-7886-462e-8ded-0956ed6d8313",
   "metadata": {},
   "source": [
    "**3. To find the 12 Capital Bikeshare stations that were the most popular departing stations in July and August\n",
    "2018 in terms of number of rides? We also aim to provide the full name of the station along with the station number too.**"
   ]
  },
  {
   "cell_type": "code",
   "execution_count": 21,
   "id": "38483a4e-eb2d-4a12-8a5a-593a95ef8477",
   "metadata": {},
   "outputs": [
    {
     "name": "stdout",
     "output_type": "stream",
     "text": [
      "15474 31258,Lincoln Memorial\n",
      "13082 31623,Columbus Circle / Union Station\n",
      "11999 31247,Jefferson Dr & 14th St SW\n",
      "11671 31289,Henry Bacon Dr & Lincoln Memorial Circle NW\n",
      "11650 31288,4th St & Madison Dr NW\n",
      "10357 31248,Smithsonian-National Mall / Jefferson Dr & 12th St SW\n",
      "9554 31249,Jefferson Memorial\n",
      "8620 31290,17th St & Independence Ave SW\n",
      "8583 31200,Massachusetts Ave & Dupont Circle NW\n",
      "8569 31201,15th & P St NW\n",
      "7711 31603,1st & M St NE\n",
      "7578 31321,15th St & Constitution Ave NW\n"
     ]
    }
   ],
   "source": [
    "!csvcut -c4,5 trips.csv | sort | uniq -c | sort -rn | head -12"
   ]
  },
  {
   "cell_type": "markdown",
   "id": "9f4890de-53e3-4fb1-8881-2011407a181b",
   "metadata": {},
   "source": [
    "The above output shows the top 12 Capital Bikeshare stations and the station number that were the most popular departing stations in July and August 2018."
   ]
  },
  {
   "cell_type": "code",
   "execution_count": 26,
   "id": "21d2aa2e-b161-45f1-8fff-21f06c59048d",
   "metadata": {},
   "outputs": [
    {
     "name": "stdout",
     "output_type": "stream",
     "text": [
      "15474 | 31258 | | Lincoln Memorial\n",
      "13082 | 31623 | | Columbus Circle / Union Station\n",
      "11999 | 31247 | | Jefferson Dr & 14th St SW\n",
      "11671 | 31289 | | Henry Bacon Dr & Lincoln Memorial Circle NW\n",
      "11650 | 31288 | | 4th St & Madison Dr NW\n",
      "10357 | 31248 | | Smithsonian-National Mall / Jefferson Dr & 12th St SW\n",
      "9554 | 31249 | | Jefferson Memorial\n",
      "8620 | 31290 | | 17th St & Independence Ave SW\n",
      "8583 | 31200 | | Massachusetts Ave & Dupont Circle NW\n",
      "8569 | 31201 | | 15th & P St NW\n",
      "7711 | 31603 | | 1st & M St NE\n",
      "7578 | 31321 | | 15th St & Constitution Ave NW\n"
     ]
    }
   ],
   "source": [
    "!awk -F, 'NR>1 {print $4 \" | \" $5}' trips.csv | sort | uniq -c | sort -nr | head -n 12 | awk '{print $1 \" | \" $2 \" | \" substr($0, index($0,$3))}'"
   ]
  },
  {
   "cell_type": "markdown",
   "id": "1901e736-e35b-414d-9e01-fdc96a5432ac",
   "metadata": {},
   "source": [
    "The above question can also be executed with the use of awk command that is used to more efficiently find patterns and process data."
   ]
  },
  {
   "cell_type": "markdown",
   "id": "53ff28de-ee05-477c-872b-0ce053518b98",
   "metadata": {},
   "source": [
    "**4. To find the 12 Capital Bikeshare stations that were the most popular destination stations in July and August 2018 in terms of number of rides? We also aim to provide the full name of the station along with the station number too**"
   ]
  },
  {
   "cell_type": "code",
   "execution_count": 37,
   "id": "f082205f-f3c2-468d-8107-2ee0460be989",
   "metadata": {},
   "outputs": [
    {
     "name": "stdout",
     "output_type": "stream",
     "text": [
      "15642 31258,Lincoln Memorial\n",
      "13635 31623,Columbus Circle / Union Station\n",
      "12135 31247,Jefferson Dr & 14th St SW\n",
      "11722 31289,Henry Bacon Dr & Lincoln Memorial Circle NW\n",
      "11555 31288,4th St & Madison Dr NW\n",
      "10693 31248,Smithsonian-National Mall / Jefferson Dr & 12th St SW\n",
      "9866 31249,Jefferson Memorial\n",
      "9141 31200,Massachusetts Ave & Dupont Circle NW\n",
      "8884 31201,15th & P St NW\n",
      "8640 31290,17th St & Independence Ave SW\n",
      "8041 31321,15th St & Constitution Ave NW\n",
      "7813 31603,1st & M St NE\n"
     ]
    }
   ],
   "source": [
    "!csvcut -c6,7 trips.csv | sort | uniq -c | sort -rn | head -12"
   ]
  },
  {
   "cell_type": "code",
   "execution_count": 39,
   "id": "44a41fd0-5d02-4286-81bf-4af8f2678c2b",
   "metadata": {},
   "outputs": [
    {
     "name": "stdout",
     "output_type": "stream",
     "text": [
      "15642 | 31258 | | Lincoln Memorial\n",
      "13635 | 31623 | | Columbus Circle / Union Station\n",
      "12135 | 31247 | | Jefferson Dr & 14th St SW\n",
      "11722 | 31289 | | Henry Bacon Dr & Lincoln Memorial Circle NW\n",
      "11555 | 31288 | | 4th St & Madison Dr NW\n",
      "10693 | 31248 | | Smithsonian-National Mall / Jefferson Dr & 12th St SW\n",
      "9866 | 31249 | | Jefferson Memorial\n",
      "9141 | 31200 | | Massachusetts Ave & Dupont Circle NW\n",
      "8884 | 31201 | | 15th & P St NW\n",
      "8640 | 31290 | | 17th St & Independence Ave SW\n",
      "8041 | 31321 | | 15th St & Constitution Ave NW\n",
      "7813 | 31603 | | 1st & M St NE\n"
     ]
    }
   ],
   "source": [
    "!awk -F, 'NR>1 {print $6 \" | \" $7}' trips.csv | sort | uniq -c | sort -nr | head -n 12 | awk '{print $1 \" | \" $2 \" | \" substr($0, index($0,$3))}'"
   ]
  },
  {
   "cell_type": "markdown",
   "id": "3155d695-8a33-4cd9-9d30-035cd32e81af",
   "metadata": {},
   "source": [
    "**5. Which 12 station-pairs (Departing-Destination) are most popular in July and August 2018 in\n",
    "terms of number of rides? provide the full name of the station, not just the station number.**"
   ]
  },
  {
   "cell_type": "code",
   "execution_count": 45,
   "id": "a2107cb7-c97a-44b4-bc82-63617f31b889",
   "metadata": {},
   "outputs": [
    {
     "name": "stdout",
     "output_type": "stream",
     "text": [
      "1633 31248,Smithsonian-National Mall / Jefferson Dr & 12th St SW,31248,Smithsonian-National Mall / Jefferson Dr & 12th St SW\n",
      "1553 31247,Jefferson Dr & 14th St SW,31247,Jefferson Dr & 14th St SW\n",
      "1521 31258,Lincoln Memorial,31249,Jefferson Memorial\n",
      "1441 31288,4th St & Madison Dr NW,31288,4th St & Madison Dr NW\n",
      "1327 31258,Lincoln Memorial,31258,Lincoln Memorial\n",
      "1231 31247,Jefferson Dr & 14th St SW,31258,Lincoln Memorial\n",
      "1225 31290,17th St & Independence Ave SW,31258,Lincoln Memorial\n",
      "1121 31240,Ohio Dr & West Basin Dr SW / MLK & FDR Memorials,31240,Ohio Dr & West Basin Dr SW / MLK & FDR Memorials\n",
      "1115 31290,17th St & Independence Ave SW,31290,17th St & Independence Ave SW\n",
      "1085 31289,Henry Bacon Dr & Lincoln Memorial Circle NW,31289,Henry Bacon Dr & Lincoln Memorial Circle NW\n",
      "1068 31321,15th St & Constitution Ave NW,31321,15th St & Constitution Ave NW\n",
      "1062 31248,Smithsonian-National Mall / Jefferson Dr & 12th St SW,31258,Lincoln Memorial\n",
      "sort: Broken pipe\n"
     ]
    }
   ],
   "source": [
    "!csvcut -c4,5,6,7 trips.csv | sort | uniq -c | sort -rn | head -12"
   ]
  },
  {
   "cell_type": "code",
   "execution_count": 45,
   "id": "8fad3254-3530-4b69-8b20-2151d5319f43",
   "metadata": {},
   "outputs": [
    {
     "name": "stdout",
     "output_type": "stream",
     "text": [
      "1633 | 31248 | Smithsonian-National Mall / Jefferson Dr & 12th St SW -> 31248 | Smithsonian-National Mall / Jefferson Dr & 12th St SW\n",
      "1553 | 31247 | Jefferson Dr & 14th St SW -> 31247 | Jefferson Dr & 14th St SW\n",
      "1521 | 31258 | Lincoln Memorial -> 31249 | Jefferson Memorial\n",
      "1441 | 31288 | 4th St & Madison Dr NW -> 31288 | 4th St & Madison Dr NW\n",
      "1327 | 31258 | Lincoln Memorial -> 31258 | Lincoln Memorial\n",
      "1231 | 31247 | Jefferson Dr & 14th St SW -> 31258 | Lincoln Memorial\n",
      "1225 | 31290 | 17th St & Independence Ave SW -> 31258 | Lincoln Memorial\n",
      "1121 | 31240 | Ohio Dr & West Basin Dr SW / MLK & FDR Memorials -> 31240 | Ohio Dr & West Basin Dr SW / MLK & FDR Memorials\n",
      "1115 | 31290 | 17th St & Independence Ave SW -> 31290 | 17th St & Independence Ave SW\n",
      "1085 | 31289 | Henry Bacon Dr & Lincoln Memorial Circle NW -> 31289 | Henry Bacon Dr & Lincoln Memorial Circle NW\n",
      "1068 | 31321 | 15th St & Constitution Ave NW -> 31321 | 15th St & Constitution Ave NW\n",
      "1062 | 31248 | Smithsonian-National Mall / Jefferson Dr & 12th St SW -> 31258 | Lincoln Memorial\n",
      "sort: Broken pipe\n"
     ]
    }
   ],
   "source": [
    "!awk -F',' 'NR > 1 {count[$4\" | \"$5\" -> \"$6\" | \"$7]++} END {for (pair in count) print count[pair] \" | \" pair}' trips.csv | sort -nr | head -12"
   ]
  },
  {
   "cell_type": "markdown",
   "id": "93106c58-055e-4791-b502-8f2f1abc1b4a",
   "metadata": {},
   "source": [
    "**6. Here are a few key findings for Q3, Q4 and Q5.**"
   ]
  },
  {
   "cell_type": "markdown",
   "id": "cb9a6248-69a6-4859-ab35-ea94f9017bcc",
   "metadata": {},
   "source": [
    "1. Most Popular Departing Stations: Lincoln Memorial was the top departing station with 15,474 rides, followed by Columbus Circle/Union Station and Jefferson Dr & 14th St SW. These stations, located near major landmarks, had the highest demand.\n",
    "\n",
    "2. Most Popular Destination Stations: Lincoln Memorial also led as the top destination station with 15,642 rides, followed by Columbus Circle/Union Station. Stations near tourist attractions were the most common destination points.\n",
    "\n",
    "3. Most Popular Station Pairs: The Smithsonian-National Mall / Jefferson Dr & 12th St SW was the most popular station pair, with 1,633 rides where both the departure and destination were the same. Several other high-traffic station pairs involved popular landmarks."
   ]
  },
  {
   "cell_type": "markdown",
   "id": "eb0396b2-e431-4339-af2a-266e82e9f606",
   "metadata": {},
   "source": [
    "**7. For the most popular departure station, we aim to find which 10 bikes were used most in trips departing from there? Also aim to provide the full name of the station, not just the station number.**"
   ]
  },
  {
   "cell_type": "code",
   "execution_count": 124,
   "id": "6ad27b1e-1c6c-45b7-baf3-c7ebd6e9d5ba",
   "metadata": {},
   "outputs": [
    {
     "name": "stdout",
     "output_type": "stream",
     "text": [
      "15474 Lincoln Memorial\n"
     ]
    }
   ],
   "source": [
    "!cut -d',' -f5 trips.csv | sort | uniq -c | sort -nr | head -1"
   ]
  },
  {
   "cell_type": "markdown",
   "id": "07741bfb-9b80-411a-b095-9185daf80a04",
   "metadata": {},
   "source": [
    "This means that **15,474** trips started from the **“Lincoln Memorial”** station, making it the most popular departure station based on data analysis. \n",
    "\n",
    "**Lincoln Memorial is the most popular departure station**"
   ]
  },
  {
   "cell_type": "code",
   "execution_count": 60,
   "id": "79893a34-8d49-49cc-ac54-69b70d2b645c",
   "metadata": {},
   "outputs": [
    {
     "name": "stdout",
     "output_type": "stream",
     "text": [
      "  18 31258,Lincoln Memorial,W01311\n",
      "  17 31258,Lincoln Memorial,W22553\n",
      "  16 31258,Lincoln Memorial,W00919\n",
      "  15 31258,Lincoln Memorial,W23074\n",
      "  15 31258,Lincoln Memorial,W22567\n",
      "  15 31258,Lincoln Memorial,W21882\n",
      "  15 31258,Lincoln Memorial,W20527\n",
      "  14 31258,Lincoln Memorial,W23311\n",
      "  14 31258,Lincoln Memorial,W23003\n",
      "  14 31258,Lincoln Memorial,W22369\n",
      "sort: Broken pipe\n"
     ]
    }
   ],
   "source": [
    "!csvgrep -c5 -r '^Lincoln Memorial$' trips.csv | csvcut -c4,5,8 | sort | uniq -c | sort -rn | head -10"
   ]
  },
  {
   "cell_type": "markdown",
   "id": "38f42707-186e-40e1-b99a-41d127466f2a",
   "metadata": {},
   "source": [
    "1. 18,17,16... indicate the count of trips \n",
    "2. 31258 indicates the Station Number\n",
    "3. Lincoln Memorial Indicates the Station Name\n",
    "4. W01311, W22553... indicates the bike number\n",
    "\n",
    "The output indicates that 18 trips were made using bike W01311 etc."
   ]
  },
  {
   "cell_type": "markdown",
   "id": "12c82cd1-55da-4ae1-b25d-01ffe2299eca",
   "metadata": {},
   "source": [
    "**8.Which 10 bikes were used most in trips ending at the most popular destination station? Also aim to provide the full name of the station, not just the station number**"
   ]
  },
  {
   "cell_type": "code",
   "execution_count": 137,
   "id": "b9d41b8c-28c9-45d1-9f2a-9be83d5726cc",
   "metadata": {},
   "outputs": [
    {
     "name": "stdout",
     "output_type": "stream",
     "text": [
      "15642 Lincoln Memorial\n"
     ]
    }
   ],
   "source": [
    "!cut -d',' -f7 trips.csv | sort | uniq -c | sort -nr | head -1"
   ]
  },
  {
   "cell_type": "markdown",
   "id": "370e771e-fb07-48e7-865b-55de53c53f80",
   "metadata": {},
   "source": [
    "**Lincoln Memorial is again the most popular destination station**"
   ]
  },
  {
   "cell_type": "code",
   "execution_count": 69,
   "id": "eae03632-3aae-444a-ac48-7d15ac05fb83",
   "metadata": {},
   "outputs": [
    {
     "name": "stdout",
     "output_type": "stream",
     "text": [
      "  17 31258,Lincoln Memorial,W22553\n",
      "  17 31258,Lincoln Memorial,W01311\n",
      "  16 31258,Lincoln Memorial,W21882\n",
      "  16 31258,Lincoln Memorial,W20527\n",
      "  16 31258,Lincoln Memorial,W00919\n",
      "  15 31258,Lincoln Memorial,W22567\n",
      "  15 31258,Lincoln Memorial,W22369\n",
      "  14 31258,Lincoln Memorial,W23311\n",
      "  14 31258,Lincoln Memorial,W23074\n",
      "  14 31258,Lincoln Memorial,W23003\n",
      "sort: Broken pipe\n"
     ]
    }
   ],
   "source": [
    "!csvgrep -c7 -r '^Lincoln Memorial$' trips.csv | csvcut -c6,7,8 | sort | uniq -c | sort -rn | head -10"
   ]
  },
  {
   "cell_type": "markdown",
   "id": "9f2fce1e-0177-43f0-9943-46cb9cd0a51a",
   "metadata": {},
   "source": [
    "# These are some of the insights gathered from the huge data from Capital Bikeshare. The same steps and commands can be used to analyse and get insights for any timeline in the data. \n"
   ]
  }
 ],
 "metadata": {
  "kernelspec": {
   "display_name": "Python 3 (ipykernel)",
   "language": "python",
   "name": "python3"
  },
  "language_info": {
   "codemirror_mode": {
    "name": "ipython",
    "version": 3
   },
   "file_extension": ".py",
   "mimetype": "text/x-python",
   "name": "python",
   "nbconvert_exporter": "python",
   "pygments_lexer": "ipython3",
   "version": "3.12.4"
  }
 },
 "nbformat": 4,
 "nbformat_minor": 5
}
